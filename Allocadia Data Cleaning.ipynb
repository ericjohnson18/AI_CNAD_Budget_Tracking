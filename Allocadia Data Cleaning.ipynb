{
 "cells": [
  {
   "cell_type": "code",
   "execution_count": 1,
   "metadata": {},
   "outputs": [],
   "source": [
    "import pandas as pd \n",
    "import numpy as np\n",
    "pd.options.mode.chained_assignment = None\n",
    "data = pd.read_csv(\"~/Downloads/Forecast Details - Campaign Program.csv\")\n",
    "pd.DataFrame(data)\n",
    "budgetdata = pd.read_csv(\"~/Documents/Budget Tracking/Budget Totals.csv\")\n",
    "pd.DataFrame(budgetdata)\n",
    "data['Date Pulled'] = pd.datetime.now().date()\n",
    "data.columns = [\"Function\", \"Budget_Name\", \"Campaign\", \"Marketing_Activity\", \n",
    "                 \"Marketing_Activity_Type\", \"Line_Item\", \"Activity_Description\", \n",
    "                 \"Quarter\", \"Spent\", \"Forecast\", \"Date_Pulled\"]\n",
    "data['Function'] = np.where(data['Budget_Name'].str.match('532 - Campaign - Cross-Program Digital'),\n",
    "                            'GDC Digital', data['Function'])\n",
    "data['Campaign'] = data['Campaign'].str.slice(10,)\n",
    "data['Campaign'] = data['Campaign'].str.replace('-',' ')\n",
    "data['Forecast'] = np.where(data['Function'].str.match('GDC Digital') & \n",
    "                            data['Campaign'].str.match('Agile Integration'), data['Forecast']*.3746,\n",
    "                            data['Forecast'])\n",
    "data['Forecast'] = np.where(data['Function'].str.match('GDC Digital') & \n",
    "                            data['Campaign'].str.match('Cloud Native App Dev'), data['Forecast']*4,\n",
    "                            data['Forecast'])\n",
    "data['Spent'] = np.where(data['Function'].str.match('GDC Digital') & \n",
    "                            data['Campaign'].str.match('Agile Integration'), data['Spent']*.3746,\n",
    "                            data['Spent'])\n",
    "data['Spent'] = np.where(data['Function'].str.match('GDC Digital') & \n",
    "                            data['Campaign'].str.match('Cloud Native App Dev'), data['Spent']*4,\n",
    "                            data['Spent'])\n",
    "data['Negative_Forecast_Tag'] = 'Negative Forecast'\n",
    "data['Negative_Forecast_Tag'][data['Forecast'] < 0] = 'Negative Forecast'\n",
    "data['Negative_Forecast_Tag'][data['Forecast'] >= 0] = 'Positive Forecast'\n",
    "data['Negative_Spent_Tag'] = 'Negative Spent'\n",
    "data['Negative_Spent_Tag'][data['Spent'] < 0] = 'Negative Spent'\n",
    "data['Negative_Spent_Tag'][data['Spent'] >= 0] = 'Positive Spent'\n",
    "data['OpenShift_Tag'] = np.where(data['Activity_Description'].str.contains('openshift|ocp|container|containers',\n",
    "                                                                           na=False, case=False),'OpenShift', \n",
    "                                np.where(data['Line_Item'].str.contains('openshift|ocp|container|containers',\n",
    "                                na=False, case=False), 'OpenShift','Middleware'))\n",
    "duplicate = data[data.duplicated(['Function', 'Budget_Name', 'Campaign', 'Marketing_Activity', \n",
    "                 'Marketing_Activity_Type', 'Line_Item', 'Activity_Description'])]\n",
    "unique = data[~data.duplicated(['Function', 'Budget_Name', 'Campaign', 'Marketing_Activity', \n",
    "                 'Marketing_Activity_Type', 'Line_Item', 'Activity_Description'])]\n",
    "duplicatenotzero = duplicate[~((duplicate['Spent']==0) & (duplicate['Forecast']==0))]\n",
    "uniquenotzero = unique[~((unique['Spent']==0) & (unique['Forecast']==0))]\n",
    "allnotzero = pd.concat([duplicatenotzero, uniquenotzero])\n",
    "duplicatezero = duplicate[(duplicate['Spent']==0) & (duplicate['Forecast']==0)]\n",
    "uniquezero = unique[(unique['Spent']==0) & (unique['Forecast']==0)]\n",
    "allzero = pd.concat([duplicatezero, uniquezero])\n",
    "allzeroduplicate = allzero[allzero.duplicated(['Function', 'Budget_Name', 'Campaign', 'Marketing_Activity', \n",
    "                 'Marketing_Activity_Type', 'Line_Item', 'Activity_Description'])]\n",
    "allzerounique = allzero[~allzero.duplicated(['Function', 'Budget_Name', 'Campaign', 'Marketing_Activity', \n",
    "                 'Marketing_Activity_Type', 'Line_Item', 'Activity_Description'])]\n",
    "finaldata = pd.concat([allzerounique, allnotzero])\n",
    "with pd.ExcelWriter('Budget Tracking Data Python.xlsx', engine='openpyxl', mode='a') as writer:\n",
    "    finaldata.to_excel(writer, sheet_name=str(pd.datetime.now().date()), index=False)"
   ]
  },
  {
   "cell_type": "code",
   "execution_count": null,
   "metadata": {},
   "outputs": [],
   "source": []
  }
 ],
 "metadata": {
  "kernelspec": {
   "display_name": "Python 3",
   "language": "python",
   "name": "python3"
  },
  "language_info": {
   "codemirror_mode": {
    "name": "ipython",
    "version": 3
   },
   "file_extension": ".py",
   "mimetype": "text/x-python",
   "name": "python",
   "nbconvert_exporter": "python",
   "pygments_lexer": "ipython3",
   "version": "3.7.3"
  }
 },
 "nbformat": 4,
 "nbformat_minor": 2
}
